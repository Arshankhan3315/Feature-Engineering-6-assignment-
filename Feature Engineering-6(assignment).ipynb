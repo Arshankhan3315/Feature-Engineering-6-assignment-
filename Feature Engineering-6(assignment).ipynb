{
 "cells": [
  {
   "cell_type": "markdown",
   "id": "3dcb7de4-055f-4a29-808a-7ea0b8f6cd38",
   "metadata": {},
   "source": [
    "# Feature Engineering-6 Assignment"
   ]
  },
  {
   "cell_type": "markdown",
   "id": "8f847dd2-a1b1-4076-b415-ac97323f8009",
   "metadata": {},
   "source": [
    "# Q1. Pearson correlation coefficient is a measure of the linear relationship between two variables. Suppose you have collected data on the amount of time students spend studying for an exam and their final exam scores. Calculate the Pearson correlation coefficient between these two variables and interpret the result."
   ]
  },
  {
   "cell_type": "markdown",
   "id": "b9f8606e-66e6-49f0-a12c-d120ad62b25d",
   "metadata": {},
   "source": [
    "# Answer-1-"
   ]
  },
  {
   "cell_type": "code",
   "execution_count": 1,
   "id": "e7040dc6-6c6f-4e32-b405-c0441c2c83d5",
   "metadata": {},
   "outputs": [],
   "source": [
    "import numpy as np"
   ]
  },
  {
   "cell_type": "code",
   "execution_count": 2,
   "id": "70b16b5e-f528-4748-80ce-327ac23e2e3f",
   "metadata": {},
   "outputs": [],
   "source": [
    "study_time = [5, 7, 3, 4, 6]\n",
    "exam_scores = [80, 85, 60, 70, 75]"
   ]
  },
  {
   "cell_type": "code",
   "execution_count": 3,
   "id": "3d1d59c7-2a4a-49a3-81f5-37793da01a2c",
   "metadata": {},
   "outputs": [],
   "source": [
    "correlation_coefficient = np.corrcoef(study_time, exam_scores)[0, 1]"
   ]
  },
  {
   "cell_type": "code",
   "execution_count": 4,
   "id": "05588ea6-2177-42ca-bbad-a8656d5b0e7a",
   "metadata": {},
   "outputs": [
    {
     "name": "stdout",
     "output_type": "stream",
     "text": [
      "The Pearson correlation coefficient is: 0.904194430179465\n"
     ]
    }
   ],
   "source": [
    "print(f\"The Pearson correlation coefficient is: {correlation_coefficient}\")"
   ]
  },
  {
   "cell_type": "markdown",
   "id": "df2efd59-2833-4cb6-ad61-117759dcd5d0",
   "metadata": {},
   "source": [
    "# Q2. Spearman's rank correlation is a measure of the monotonic relationship between two variables. Suppose you have collected data on the amount of sleep individuals get each night and their overall job satisfaction level on a scale of 1 to 10. Calculate the Spearman's rank correlation between these two variables and interpret the result."
   ]
  },
  {
   "cell_type": "markdown",
   "id": "ae662107-410e-4cb5-ba1f-eebf8ae7fe55",
   "metadata": {},
   "source": [
    "# Answer-2-"
   ]
  },
  {
   "cell_type": "code",
   "execution_count": 5,
   "id": "18b78a7d-e4fb-43fb-bfe0-42dd553cbb32",
   "metadata": {},
   "outputs": [],
   "source": [
    "from scipy.stats import spearmanr"
   ]
  },
  {
   "cell_type": "code",
   "execution_count": 6,
   "id": "e9e4a485-aecb-474d-9e57-6c22e7aa631b",
   "metadata": {},
   "outputs": [],
   "source": [
    "sleep_hours = [7, 6, 5, 8, 6]\n",
    "job_satisfaction = [8, 6, 4, 9, 7]"
   ]
  },
  {
   "cell_type": "code",
   "execution_count": 7,
   "id": "3fe9782f-b5a2-4a52-886a-f7b230dadcf1",
   "metadata": {},
   "outputs": [],
   "source": [
    "correlation, p_value = spearmanr(sleep_hours, job_satisfaction)"
   ]
  },
  {
   "cell_type": "code",
   "execution_count": 8,
   "id": "4ce4164d-77fe-43e2-b79c-0e0730fdc077",
   "metadata": {},
   "outputs": [
    {
     "name": "stdout",
     "output_type": "stream",
     "text": [
      "The Spearman's rank correlation coefficient is: 0.9746794344808963\n"
     ]
    }
   ],
   "source": [
    "print(f\"The Spearman's rank correlation coefficient is: {correlation}\")"
   ]
  },
  {
   "cell_type": "markdown",
   "id": "0ebb8cf5-4ec8-4d1a-8081-ebc00099fc90",
   "metadata": {},
   "source": [
    "# Q3. Suppose you are conducting a study to examine the relationship between the number of hours of exercise per week and body mass index (BMI) in a sample of adults. You collected data on both variables for 50 participants. Calculate the Pearson correlation coefficient and the Spearman's rank correlation between these two variables and compare the results."
   ]
  },
  {
   "cell_type": "markdown",
   "id": "843d206c-7621-4f03-a373-498b70bb9be9",
   "metadata": {},
   "source": [
    "# Answer-3-"
   ]
  },
  {
   "cell_type": "code",
   "execution_count": 9,
   "id": "74fc1070-095d-485b-835d-1e7b13f2464e",
   "metadata": {},
   "outputs": [],
   "source": [
    "from scipy.stats import pearsonr, spearmanr"
   ]
  },
  {
   "cell_type": "code",
   "execution_count": 10,
   "id": "a20b81bc-222e-4f07-869c-8935a7cf9148",
   "metadata": {},
   "outputs": [],
   "source": [
    "exercise_hours = np.random.uniform(1, 10, 50)  \n",
    "bmi = np.random.normal(25, 5, 50)  \n",
    "pearson_corr, _ = pearsonr(exercise_hours, bmi)\n",
    "spearman_corr, _ = spearmanr(exercise_hours, bmi)"
   ]
  },
  {
   "cell_type": "code",
   "execution_count": 11,
   "id": "3b761c84-1661-4178-a032-06b8864b997b",
   "metadata": {},
   "outputs": [
    {
     "name": "stdout",
     "output_type": "stream",
     "text": [
      "Pearson correlation coefficient: 0.03135270726661861\n",
      "Spearman's rank correlation: 0.02396158463385354\n"
     ]
    }
   ],
   "source": [
    "print(f\"Pearson correlation coefficient: {pearson_corr}\")\n",
    "print(f\"Spearman's rank correlation: {spearman_corr}\")"
   ]
  },
  {
   "cell_type": "markdown",
   "id": "d7b0375d-0626-41b8-9024-a78517ea9cc9",
   "metadata": {},
   "source": [
    "# Q4. A researcher is interested in examining the relationship between the number of hours individualsspend watching television per day and their level of physical activity. The researcher collected data on both variables from a sample of 50 participants. Calculate the Pearson correlation coefficient between these two variables."
   ]
  },
  {
   "cell_type": "markdown",
   "id": "a916cd06-64d1-4573-8de0-49a9d2a769a8",
   "metadata": {},
   "source": [
    "# Answer-4-"
   ]
  },
  {
   "cell_type": "code",
   "execution_count": 12,
   "id": "75afe650-4011-4102-8ef4-56bd27b824c0",
   "metadata": {},
   "outputs": [],
   "source": [
    "hours_tv = np.random.uniform(1, 8, 50)  \n",
    "physical_activity = np.random.uniform(1, 10, 50)  \n",
    "pearson_corr, _ = pearsonr(hours_tv, physical_activity)"
   ]
  },
  {
   "cell_type": "code",
   "execution_count": 13,
   "id": "c81bed17-ea02-4961-b470-1c3931bac4da",
   "metadata": {},
   "outputs": [
    {
     "name": "stdout",
     "output_type": "stream",
     "text": [
      "Pearson correlation coefficient: 0.05799334000115644\n"
     ]
    }
   ],
   "source": [
    "print(f\"Pearson correlation coefficient: {pearson_corr}\")"
   ]
  },
  {
   "cell_type": "markdown",
   "id": "da6298eb-1755-4f68-8ae8-0f44e8e8788a",
   "metadata": {},
   "source": [
    "# Question-5. A survey was conducted to examine the relationship between age and preference for a particular brand of soft drink. The survey results are shown below:\n",
    "# age(years)=[25,42,37,19,31,28]\n",
    "# Soft drink Preference=[coke,pepsi,mountandew,coke,pepsi,coke]"
   ]
  },
  {
   "cell_type": "markdown",
   "id": "530fce83-da6c-4eb7-b3c6-28115e2192be",
   "metadata": {},
   "source": [
    "# Answer-5-"
   ]
  },
  {
   "cell_type": "code",
   "execution_count": 17,
   "id": "5880e9a9-89c4-4623-bd22-e97cc17e9a81",
   "metadata": {},
   "outputs": [],
   "source": [
    "import pandas as pd\n",
    "data = {\n",
    "    'age': [25, 42, 37, 19, 31, 28],\n",
    "    'soft_drink_preference': ['coke', 'pepsi', 'mountaindew', 'coke', 'pepsi', 'coke']\n",
    "}"
   ]
  },
  {
   "cell_type": "code",
   "execution_count": 18,
   "id": "c136a1d7-d466-4150-9fc8-76ab6f988055",
   "metadata": {},
   "outputs": [],
   "source": [
    "df = pd.DataFrame(data)"
   ]
  },
  {
   "cell_type": "code",
   "execution_count": 19,
   "id": "b58c2cd3-f59f-4fcb-95ff-50b02d41c031",
   "metadata": {},
   "outputs": [
    {
     "name": "stdout",
     "output_type": "stream",
     "text": [
      "Frequency distribution of soft drink preference:\n",
      "coke           3\n",
      "pepsi          2\n",
      "mountaindew    1\n",
      "Name: soft_drink_preference, dtype: int64\n"
     ]
    }
   ],
   "source": [
    "print(\"Frequency distribution of soft drink preference:\")\n",
    "print(df['soft_drink_preference'].value_counts())"
   ]
  },
  {
   "cell_type": "code",
   "execution_count": 20,
   "id": "915529a6-fd92-46db-bb09-5a4f26387a03",
   "metadata": {},
   "outputs": [
    {
     "name": "stdout",
     "output_type": "stream",
     "text": [
      "\n",
      "Crosstab analysis:\n",
      "soft_drink_preference  coke  mountaindew  pepsi\n",
      "age                                            \n",
      "19                        1            0      0\n",
      "25                        1            0      0\n",
      "28                        1            0      0\n",
      "31                        0            0      1\n",
      "37                        0            1      0\n",
      "42                        0            0      1\n"
     ]
    }
   ],
   "source": [
    "crosstab = pd.crosstab(df['age'], df['soft_drink_preference'])\n",
    "print(\"\\nCrosstab analysis:\")\n",
    "print(crosstab)"
   ]
  },
  {
   "cell_type": "markdown",
   "id": "e3d5c080-569b-4769-93b0-89573c5e0665",
   "metadata": {},
   "source": [
    "# Q6. A company is interested in examining the relationship between the number of sales calls made per day and the number of sales made per week. The company collected data on both variables from a sample of 30 sales representatives. Calculate the Pearson correlation coefficient between these two variables."
   ]
  },
  {
   "cell_type": "markdown",
   "id": "e7fe2cee-f646-4b19-9ebc-6ad59b3e1cf3",
   "metadata": {},
   "source": [
    "# Answer-6-"
   ]
  },
  {
   "cell_type": "code",
   "execution_count": 21,
   "id": "e4295936-e1fd-4fb3-99c0-7983127eb181",
   "metadata": {},
   "outputs": [],
   "source": [
    "sales_calls_per_day = np.random.randint(30, 80, 30)  \n",
    "sales_per_week = np.random.randint(5, 20, 30)  \n",
    "pearson_corr, _ = pearsonr(sales_calls_per_day, sales_per_week)"
   ]
  },
  {
   "cell_type": "code",
   "execution_count": 22,
   "id": "8b81a2d7-39e0-4ac5-a748-1a1002d7b0dd",
   "metadata": {},
   "outputs": [
    {
     "name": "stdout",
     "output_type": "stream",
     "text": [
      "Pearson correlation coefficient: 0.2845827699358679\n"
     ]
    }
   ],
   "source": [
    "print(f\"Pearson correlation coefficient: {pearson_corr}\")"
   ]
  },
  {
   "cell_type": "markdown",
   "id": "f091e628-49a2-4a8a-b644-373f99cb9940",
   "metadata": {},
   "source": [
    "# Assignment Completed"
   ]
  }
 ],
 "metadata": {
  "kernelspec": {
   "display_name": "Python 3 (ipykernel)",
   "language": "python",
   "name": "python3"
  },
  "language_info": {
   "codemirror_mode": {
    "name": "ipython",
    "version": 3
   },
   "file_extension": ".py",
   "mimetype": "text/x-python",
   "name": "python",
   "nbconvert_exporter": "python",
   "pygments_lexer": "ipython3",
   "version": "3.10.8"
  }
 },
 "nbformat": 4,
 "nbformat_minor": 5
}
